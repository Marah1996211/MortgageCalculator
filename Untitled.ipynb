{
 "cells": [
  {
   "cell_type": "code",
   "execution_count": 1,
   "id": "ad37e7ec-662c-4575-813f-6fb1fd30dbb0",
   "metadata": {},
   "outputs": [],
   "source": [
    "import streamlit as st\n",
    "import pandas as pd\n",
    "import matplotlib.pyplot as plt\n",
    "import math"
   ]
  },
  {
   "cell_type": "code",
   "execution_count": 2,
   "id": "79d64f88-6929-4568-9a81-73d3fcbad774",
   "metadata": {},
   "outputs": [
    {
     "name": "stderr",
     "output_type": "stream",
     "text": [
      "2024-12-14 21:03:55.968 \n",
      "  \u001b[33m\u001b[1mWarning:\u001b[0m to view this Streamlit app on a browser, run it with the following\n",
      "  command:\n",
      "\n",
      "    streamlit run C:\\Users\\marah\\anaconda3\\Lib\\site-packages\\ipykernel_launcher.py [ARGUMENTS]\n"
     ]
    },
    {
     "data": {
      "text/plain": [
       "DeltaGenerator()"
      ]
     },
     "execution_count": 2,
     "metadata": {},
     "output_type": "execute_result"
    }
   ],
   "source": [
    "st.title(\"Mortgage Repayments Calculator\")"
   ]
  },
  {
   "cell_type": "code",
   "execution_count": 3,
   "id": "9833415e-fa3e-404d-acf0-d084b9079c61",
   "metadata": {},
   "outputs": [],
   "source": [
    "st.write(\"### Input Data\")\n",
    "col1, col2 = st.columns(2)"
   ]
  },
  {
   "cell_type": "code",
   "execution_count": 4,
   "id": "ce2f2a2f-460d-4310-9ebc-aa27688970c3",
   "metadata": {},
   "outputs": [],
   "source": [
    "# User inputs to calculate mortgage repayments\n",
    "home_value = col1.number_input(\"Home Value\", min_value=0, value=500000)\n",
    "deposit = col1.number_input(\"Deposit\", min_value=0, value=100000)\n",
    "interest_rate = col2.number_input(\"Interest Rate (in %)\", min_value=0.0, value=5.5)\n",
    "loan_term = col2.number_input(\"Loan Term (in years)\", min_value=1, value=30)"
   ]
  },
  {
   "cell_type": "code",
   "execution_count": 5,
   "id": "3610df3a-ee56-4486-bb80-ca493b79a5b1",
   "metadata": {},
   "outputs": [],
   "source": [
    "# Calculate the repayments\n",
    "loan_amount = home_value - deposit\n",
    "monthly_interest_rate = (interest_rate / 100) / 12\n",
    "number_of_payments = loan_term * 12\n",
    "monthly_payment = (\n",
    "    loan_amount\n",
    "    * (monthly_interest_rate * (1 + monthly_interest_rate) ** number_of_payments)\n",
    "    / ((1 + monthly_interest_rate) ** number_of_payments - 1)\n",
    ")"
   ]
  },
  {
   "cell_type": "code",
   "execution_count": 7,
   "id": "01dc91a7-ced4-40fc-8eba-b76b20373d46",
   "metadata": {},
   "outputs": [
    {
     "data": {
      "text/plain": [
       "DeltaGenerator()"
      ]
     },
     "execution_count": 7,
     "metadata": {},
     "output_type": "execute_result"
    }
   ],
   "source": [
    "# Display the repayments\n",
    "total_payments = monthly_payment * number_of_payments\n",
    "total_interest = total_payments - loan_amount\n",
    "\n",
    "st.write(\"### Repayments\")\n",
    "col1, col2, col3 = st.columns(3)\n",
    "col1.metric(label=\"Monthly Repayments\", value=f\"${monthly_payment:,.2f}\")\n",
    "col2.metric(label=\"Total Repayments\", value=f\"${monthly_payment * number_of_payments:,.0f}\")\n",
    "col3.metric(label=\"Total Interest\", value=f\"${(monthly_payment * number_of_payments) - loan_amount:,.0f}\")"
   ]
  },
  {
   "cell_type": "code",
   "execution_count": 9,
   "id": "fa40eede-9dc1-4804-a2d1-265f5e3d8c68",
   "metadata": {},
   "outputs": [],
   "source": [
    "# Create a data-frame with the payment schedule\n",
    "schedule = []\n",
    "remaining_balance = loan_amount\n",
    "\n",
    "for i in range(1, number_of_payments + 1):\n",
    "    interest_payment = remaining_balance * monthly_interest_rate\n",
    "    principal_payment = monthly_payment - interest_payment\n",
    "    remaining_balance -= principal_payment\n",
    "    year = math.ceil(i / 12)  # Calculate the year into the loan\n",
    "    schedule.append(\n",
    "        [\n",
    "            i,\n",
    "            monthly_payment,\n",
    "            principal_payment,\n",
    "            interest_payment,\n",
    "            remaining_balance,\n",
    "            year,\n",
    "        ]\n",
    "    )\n",
    "\n",
    "df = pd.DataFrame(\n",
    "    schedule,\n",
    "    columns=[\"Month\", \"Payment\", \"Principal\", \"Interest\", \"Remaining Balance\", \"Year\"],\n",
    ")"
   ]
  },
  {
   "cell_type": "code",
   "execution_count": 10,
   "id": "bdef29b5-679c-48b4-873a-061996369374",
   "metadata": {},
   "outputs": [
    {
     "data": {
      "text/plain": [
       "DeltaGenerator()"
      ]
     },
     "execution_count": 10,
     "metadata": {},
     "output_type": "execute_result"
    }
   ],
   "source": [
    "# Display the data-frame as a chart\n",
    "st.write(\"### Payment Schedule\")\n",
    "payments_df = df[[\"Year\", \"Remaining Balance\"]].groupby(\"Year\").min()\n",
    "st.line_chart(payments_df)\n"
   ]
  },
  {
   "cell_type": "code",
   "execution_count": 11,
   "id": "02f94cc0-3dff-465c-9b78-d03d8aaa0574",
   "metadata": {},
   "outputs": [],
   "source": [
    "st.write(\"##### This is a test deployment of code learned from the following tutorial: https://www.youtube.com/watch?v=D0D4Pa22iG0\")\n",
    "st.write(\"##### The code is available at the following GitHub repository: https://github.com/pixegami/streamlit-demo-app.git\")"
   ]
  },
  {
   "cell_type": "code",
   "execution_count": null,
   "id": "6bc00d0d-b4f4-4139-a651-3fc2a35af179",
   "metadata": {},
   "outputs": [],
   "source": []
  }
 ],
 "metadata": {
  "kernelspec": {
   "display_name": "Python 3 (ipykernel)",
   "language": "python",
   "name": "python3"
  },
  "language_info": {
   "codemirror_mode": {
    "name": "ipython",
    "version": 3
   },
   "file_extension": ".py",
   "mimetype": "text/x-python",
   "name": "python",
   "nbconvert_exporter": "python",
   "pygments_lexer": "ipython3",
   "version": "3.12.4"
  }
 },
 "nbformat": 4,
 "nbformat_minor": 5
}
